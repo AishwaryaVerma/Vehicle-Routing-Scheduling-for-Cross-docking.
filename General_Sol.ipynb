{
 "cells": [
  {
   "cell_type": "code",
   "execution_count": 1,
   "metadata": {},
   "outputs": [],
   "source": [
    "import random\n",
    "import networkx as nx\n",
    "import matplotlib.pyplot as plt\n",
    "import numpy as np\n",
    "import pickle"
   ]
  },
  {
   "cell_type": "code",
   "execution_count": 2,
   "metadata": {},
   "outputs": [],
   "source": [
    "def dist(x, y):\n",
    "    return(abs(x-y))"
   ]
  },
  {
   "cell_type": "code",
   "execution_count": 3,
   "metadata": {},
   "outputs": [],
   "source": [
    "def ranPoint(r, rx, ry, n):\n",
    "    radius = r\n",
    "    rangeX = (0, rx)\n",
    "    qty = n\n",
    "    R = []\n",
    "    for i in range(n):\n",
    "        R.append(random.randrange(500))\n",
    "        \n",
    "    P = R[:int(len(R)/3)]\n",
    "    D = R[int(len(R)/3):]\n",
    "    return(P, D)"
   ]
  },
  {
   "cell_type": "code",
   "execution_count": 4,
   "metadata": {
    "scrolled": true
   },
   "outputs": [],
   "source": [
    "P, D = ranPoint(50,500,500,10)"
   ]
  },
  {
   "cell_type": "code",
   "execution_count": 5,
   "metadata": {},
   "outputs": [
    {
     "data": {
      "text/plain": [
       "[294, 354, 72]"
      ]
     },
     "execution_count": 5,
     "metadata": {},
     "output_type": "execute_result"
    }
   ],
   "source": [
    "P"
   ]
  },
  {
   "cell_type": "code",
   "execution_count": 6,
   "metadata": {
    "scrolled": true
   },
   "outputs": [
    {
     "data": {
      "text/plain": [
       "[70, 387, 282, 140, 408, 244, 435]"
      ]
     },
     "execution_count": 6,
     "metadata": {},
     "output_type": "execute_result"
    }
   ],
   "source": [
    "D"
   ]
  },
  {
   "cell_type": "code",
   "execution_count": 7,
   "metadata": {},
   "outputs": [],
   "source": [
    "def vehicleCapacity(Q = 70, m = 10):\n",
    "    v = []\n",
    "    for i in range(m):\n",
    "        v.append(random.randrange(Q))\n",
    "    return(v)"
   ]
  },
  {
   "cell_type": "code",
   "execution_count": 8,
   "metadata": {},
   "outputs": [],
   "source": [
    "vc1 = vehicleCapacity()"
   ]
  },
  {
   "cell_type": "code",
   "execution_count": 9,
   "metadata": {},
   "outputs": [],
   "source": [
    "vc = 70"
   ]
  },
  {
   "cell_type": "code",
   "execution_count": 10,
   "metadata": {},
   "outputs": [],
   "source": [
    "random.seed()\n",
    "def pdQuant():\n",
    "    nums = []\n",
    "    t = 150\n",
    "    totals = [t, t]\n",
    "    n = 10\n",
    "    k = 0\n",
    "    split = [int(n/3)-1, int(2*n/3)]\n",
    "    \n",
    "    for i in totals:\n",
    "        if i == 0:\n",
    "            nums.append([0 for i in range(6)])\n",
    "            continue\n",
    "        total = i\n",
    "        temp = []\n",
    "        for i in range(split[k]):\n",
    "            val = random.sample(range(5,50), 1)\n",
    "            v=val[0]\n",
    "            temp.append(v)\n",
    "            total -= v\n",
    "        temp.append(total)\n",
    "        nums.append(temp)\n",
    "        k+=1\n",
    "    pi = nums[0]\n",
    "    di = nums[1]\n",
    "    return(pi, di)"
   ]
  },
  {
   "cell_type": "code",
   "execution_count": 11,
   "metadata": {},
   "outputs": [],
   "source": [
    "def vTime(n = 10, lr = 5, ur = 50):\n",
    "    ntime = []\n",
    "    for i in range(n):\n",
    "        ntime.append(random.randrange(10,30))\n",
    "    return(ntime)"
   ]
  },
  {
   "cell_type": "code",
   "execution_count": 12,
   "metadata": {},
   "outputs": [],
   "source": [
    "ntime = vTime()"
   ]
  },
  {
   "cell_type": "code",
   "execution_count": 13,
   "metadata": {},
   "outputs": [],
   "source": [
    "pi, di = pdQuant()"
   ]
  },
  {
   "cell_type": "code",
   "execution_count": 14,
   "metadata": {},
   "outputs": [],
   "source": [
    "pi = [45, 51, 54]"
   ]
  },
  {
   "cell_type": "code",
   "execution_count": 15,
   "metadata": {},
   "outputs": [],
   "source": [
    "di = [23, 32, 17, 28, 15, 10, 25]"
   ]
  },
  {
   "cell_type": "code",
   "execution_count": 16,
   "metadata": {},
   "outputs": [
    {
     "data": {
      "text/plain": [
       "150"
      ]
     },
     "execution_count": 16,
     "metadata": {},
     "output_type": "execute_result"
    }
   ],
   "source": [
    "sum(di)"
   ]
  },
  {
   "cell_type": "code",
   "execution_count": null,
   "metadata": {},
   "outputs": [],
   "source": []
  },
  {
   "cell_type": "code",
   "execution_count": 618,
   "metadata": {},
   "outputs": [],
   "source": [
    "with open('pi150', 'wb') as fp:\n",
    "    pickle.dump(pi, fp)\n",
    "with open('di150', 'wb') as fp:\n",
    "    pickle.dump(di, fp)"
   ]
  },
  {
   "cell_type": "code",
   "execution_count": 17,
   "metadata": {},
   "outputs": [],
   "source": [
    "with open ('pi150', 'rb') as fp:\n",
    "    pi = pickle.load(fp)\n",
    "with open ('di150', 'rb') as fp:\n",
    "    di = pickle.load(fp)"
   ]
  },
  {
   "cell_type": "code",
   "execution_count": 18,
   "metadata": {},
   "outputs": [],
   "source": [
    "def randConnect(n = 10):\n",
    "    n += 1\n",
    "    tran = np.zeros((n,n))\n",
    "    time = np.zeros((n,n))\n",
    "    for i in range(n):\n",
    "        for j in range(n):\n",
    "            if(i == j):\n",
    "                continue\n",
    "            t1 = random.randrange(48,560)\n",
    "            tran[i,j] = t1\n",
    "            tran[j,i] = t1\n",
    "            t2 = random.randrange(20,200)\n",
    "            time[i,j] = t2\n",
    "            time[j,i] = t2\n",
    "    return(tran, time)"
   ]
  },
  {
   "cell_type": "code",
   "execution_count": 19,
   "metadata": {},
   "outputs": [],
   "source": [
    "tc, time = randConnect()"
   ]
  },
  {
   "cell_type": "code",
   "execution_count": 20,
   "metadata": {
    "scrolled": true
   },
   "outputs": [
    {
     "data": {
      "text/plain": [
       "array([[  0., 207.,  73., 193., 213., 466., 121., 450.,  88., 530., 559.],\n",
       "       [207.,   0., 333., 103., 155., 314., 366., 219., 408., 209., 558.],\n",
       "       [ 73., 333.,   0., 316., 555., 115., 537., 373., 538., 494., 131.],\n",
       "       [193., 103., 316.,   0., 213., 507., 198., 264., 266., 260., 373.],\n",
       "       [213., 155., 555., 213.,   0., 353., 447., 407., 179., 263., 126.],\n",
       "       [466., 314., 115., 507., 353.,   0., 547., 405., 225., 408., 458.],\n",
       "       [121., 366., 537., 198., 447., 547.,   0., 335., 467., 342., 557.],\n",
       "       [450., 219., 373., 264., 407., 405., 335.,   0., 467., 280., 206.],\n",
       "       [ 88., 408., 538., 266., 179., 225., 467., 467.,   0., 216., 119.],\n",
       "       [530., 209., 494., 260., 263., 408., 342., 280., 216.,   0., 398.],\n",
       "       [559., 558., 131., 373., 126., 458., 557., 206., 119., 398.,   0.]])"
      ]
     },
     "execution_count": 20,
     "metadata": {},
     "output_type": "execute_result"
    }
   ],
   "source": [
    "tc"
   ]
  },
  {
   "cell_type": "code",
   "execution_count": 21,
   "metadata": {},
   "outputs": [
    {
     "data": {
      "text/plain": [
       "array([[  0.,  26.,  81., 189., 165.,  21.,  47.,  63.,  81.,  27.,  49.],\n",
       "       [ 26.,   0.,  79., 147., 152., 107., 116.,  30., 136., 174., 143.],\n",
       "       [ 81.,  79.,   0., 109., 164.,  80.,  26., 139.,  23., 112.,  32.],\n",
       "       [189., 147., 109.,   0., 180.,  68., 103., 114., 122., 189., 108.],\n",
       "       [165., 152., 164., 180.,   0.,  68.,  50.,  32., 126.,  91., 183.],\n",
       "       [ 21., 107.,  80.,  68.,  68.,   0., 121., 126.,  63., 104., 156.],\n",
       "       [ 47., 116.,  26., 103.,  50., 121.,   0., 198., 103., 179.,  93.],\n",
       "       [ 63.,  30., 139., 114.,  32., 126., 198.,   0., 104., 112.,  43.],\n",
       "       [ 81., 136.,  23., 122., 126.,  63., 103., 104.,   0.,  24.,  37.],\n",
       "       [ 27., 174., 112., 189.,  91., 104., 179., 112.,  24.,   0., 117.],\n",
       "       [ 49., 143.,  32., 108., 183., 156.,  93.,  43.,  37., 117.,   0.]])"
      ]
     },
     "execution_count": 21,
     "metadata": {},
     "output_type": "execute_result"
    }
   ],
   "source": [
    "time"
   ]
  },
  {
   "cell_type": "code",
   "execution_count": 22,
   "metadata": {},
   "outputs": [],
   "source": [
    "dock = random.randrange(500)"
   ]
  },
  {
   "cell_type": "code",
   "execution_count": 23,
   "metadata": {},
   "outputs": [
    {
     "data": {
      "text/plain": [
       "2"
      ]
     },
     "execution_count": 23,
     "metadata": {},
     "output_type": "execute_result"
    }
   ],
   "source": [
    "dock"
   ]
  },
  {
   "cell_type": "code",
   "execution_count": 24,
   "metadata": {},
   "outputs": [
    {
     "data": {
      "text/plain": [
       "[45, 51, 54]"
      ]
     },
     "execution_count": 24,
     "metadata": {},
     "output_type": "execute_result"
    }
   ],
   "source": [
    "pi"
   ]
  },
  {
   "cell_type": "code",
   "execution_count": 25,
   "metadata": {},
   "outputs": [
    {
     "data": {
      "text/plain": [
       "[23, 32, 17, 28, 15, 10, 25]"
      ]
     },
     "execution_count": 25,
     "metadata": {},
     "output_type": "execute_result"
    }
   ],
   "source": [
    "di"
   ]
  },
  {
   "cell_type": "code",
   "execution_count": 26,
   "metadata": {},
   "outputs": [],
   "source": [
    "pi.extend(di)"
   ]
  },
  {
   "cell_type": "code",
   "execution_count": 27,
   "metadata": {},
   "outputs": [
    {
     "data": {
      "text/plain": [
       "[45, 51, 54, 23, 32, 17, 28, 15, 10, 25]"
      ]
     },
     "execution_count": 27,
     "metadata": {},
     "output_type": "execute_result"
    }
   ],
   "source": [
    "pi"
   ]
  },
  {
   "cell_type": "code",
   "execution_count": 28,
   "metadata": {},
   "outputs": [],
   "source": [
    "# variables -> P, D, vc, ntime, pi, di, tran, time"
   ]
  },
  {
   "cell_type": "code",
   "execution_count": 29,
   "metadata": {},
   "outputs": [
    {
     "data": {
      "text/plain": [
       "3"
      ]
     },
     "execution_count": 29,
     "metadata": {},
     "output_type": "execute_result"
    }
   ],
   "source": [
    "int(10/3)"
   ]
  },
  {
   "cell_type": "code",
   "execution_count": 30,
   "metadata": {},
   "outputs": [
    {
     "data": {
      "text/plain": [
       "[23, 32, 17, 28, 15, 10, 25]"
      ]
     },
     "execution_count": 30,
     "metadata": {},
     "output_type": "execute_result"
    }
   ],
   "source": [
    "pi[3:]"
   ]
  },
  {
   "cell_type": "code",
   "execution_count": 31,
   "metadata": {},
   "outputs": [
    {
     "data": {
      "text/plain": [
       "[1, 2, 3, 4, 5, 6, 7, 8, 9, 10]"
      ]
     },
     "execution_count": 31,
     "metadata": {},
     "output_type": "execute_result"
    }
   ],
   "source": [
    "veh = list(range(1,11))\n",
    "veh"
   ]
  },
  {
   "cell_type": "code",
   "execution_count": 32,
   "metadata": {},
   "outputs": [],
   "source": [
    "def check(list1, val):\n",
    "    # traverse in the list \n",
    "    for x in list1: \n",
    "  \n",
    "        # compare with all the values \n",
    "        # with val \n",
    "        if val>= x: \n",
    "            return False \n",
    "    return True"
   ]
  },
  {
   "cell_type": "code",
   "execution_count": 33,
   "metadata": {},
   "outputs": [],
   "source": [
    "def initialSolP(P, vc, ntime, pd, tc, time, dock, n = 10, m = 10):\n",
    "    oc = 100\n",
    "    selP = []\n",
    "    veh = list(range(1,11))\n",
    "    tol = 1.5\n",
    "    routes = []\n",
    "    visited = [0]*(n+1)\n",
    "    p = int(n/3)\n",
    "    remP = list(range(1, p+1))\n",
    "    while(len(selP) != p):\n",
    "        cur = 0\n",
    "        tv = random.choice(veh)\n",
    "        selP.append(tv)\n",
    "        veh.remove(tv)\n",
    "        vc = 70\n",
    "        vroute = []\n",
    "        while(1):\n",
    "            tol = np.mean(tc[cur])\n",
    "            if(check(pd[:p], vc)):\n",
    "                vroute.append([(cur, 0), tc[cur, 0]+oc])\n",
    "                break\n",
    "            candList = []\n",
    "            m = min(i for i in tc[cur] if i > 0)\n",
    "            for i in range(1,p+1):\n",
    "                if(i == cur):\n",
    "                    continue\n",
    "                #print(tc[cur, i]/m)\n",
    "                if(tc[cur, i]/m <= tol and i in remP):\n",
    "                    candList.append(i)        \n",
    "            if(len(candList) == 0):\n",
    "                vroute.append([(cur, 0), tc[cur, 0]+oc])\n",
    "                break\n",
    "            #print(candList)\n",
    "            sn = random.choice(candList)\n",
    "            j = 0\n",
    "            visited[sn] = 1\n",
    "            remP.remove(sn)\n",
    "            vc -= pd[sn+1]\n",
    "            if(vc < 0):\n",
    "                vroute.append([(cur, 0), tc[cur, 0]+oc])\n",
    "                break\n",
    "            vroute.append([(cur, sn), tc[cur, sn]+oc])\n",
    "            cur = sn\n",
    "            #print(vroute)\n",
    "            print(vc)\n",
    "        routes.append(vroute)\n",
    "    return routes"
   ]
  },
  {
   "cell_type": "code",
   "execution_count": 34,
   "metadata": {},
   "outputs": [],
   "source": [
    "def initialSolD(D, vc, ntime, pd, tc, time, dock, n = 10, m = 10):\n",
    "    oc = 100\n",
    "    selD = []\n",
    "    veh = list(range(1,11))\n",
    "    tol = 1.5\n",
    "    routes = []\n",
    "    visited = [0]*(n+1)\n",
    "    p = int(n/3)\n",
    "    d = n - int(n/3)\n",
    "    remD = list(range(p+1, d))\n",
    "    while(len(selD) != d):\n",
    "        cur = 0\n",
    "        tv = random.choice(veh)\n",
    "        selD.append(tv)\n",
    "        veh.remove(tv)\n",
    "        vc = 70\n",
    "        vroute = []\n",
    "        while(1):\n",
    "            tol = np.mean(tc[cur])\n",
    "            if(check(pd[p:], vc)):\n",
    "                vroute.append([(cur, 0), tc[cur, 0]+oc])\n",
    "                break\n",
    "            candList = []\n",
    "            m = min(i for i in tc[cur] if i > 0)\n",
    "            for i in range(p+1,d+1):\n",
    "                if(i == cur):\n",
    "                    continue\n",
    "                #print(tc[cur, i]/m)\n",
    "                if(tc[cur, i]/m <= tol and i in remD):\n",
    "                    candList.append(i)        \n",
    "            if(len(candList) == 0):\n",
    "                vroute.append([(cur, 0), tc[cur, 0]+oc])\n",
    "                break\n",
    "            #print(candList)\n",
    "            sn = random.choice(candList)\n",
    "            j = 0\n",
    "            visited[sn] = 1\n",
    "            remD.remove(sn)\n",
    "            vc -= pd[sn+1]\n",
    "            if(vc < 0):\n",
    "                vroute.append([(cur, 0), tc[cur, 0]+oc])\n",
    "                break\n",
    "            vroute.append([(cur, sn), tc[cur, sn]+oc])\n",
    "            cur = sn\n",
    "            #print(vroute)\n",
    "            print(vc)\n",
    "        routes.append(vroute)\n",
    "    return routes"
   ]
  },
  {
   "cell_type": "code",
   "execution_count": 36,
   "metadata": {},
   "outputs": [
    {
     "name": "stdout",
     "output_type": "stream",
     "text": [
      "16\n",
      "38\n",
      "47\n"
     ]
    },
    {
     "data": {
      "text/plain": [
       "[[[(0, 1), 307.0], [(1, 0), 307.0]],\n",
       " [[(0, 3), 293.0], [(3, 0), 293.0]],\n",
       " [[(0, 2), 173.0], [(2, 0), 173.0]]]"
      ]
     },
     "execution_count": 36,
     "metadata": {},
     "output_type": "execute_result"
    }
   ],
   "source": [
    "initialSolP(P, vc, time, pi, tc, time, dock, n = 10, m = 10)"
   ]
  },
  {
   "cell_type": "code",
   "execution_count": 37,
   "metadata": {},
   "outputs": [
    {
     "name": "stdout",
     "output_type": "stream",
     "text": [
      "55\n",
      "27\n",
      "10\n"
     ]
    },
    {
     "data": {
      "text/plain": [
       "[[[(0, 6), 221.0], [(6, 5), 647.0], [(5, 4), 453.0], [(4, 0), 313.0]],\n",
       " [[(0, 0), 100.0]],\n",
       " [[(0, 0), 100.0]],\n",
       " [[(0, 0), 100.0]],\n",
       " [[(0, 0), 100.0]],\n",
       " [[(0, 0), 100.0]],\n",
       " [[(0, 0), 100.0]]]"
      ]
     },
     "execution_count": 37,
     "metadata": {},
     "output_type": "execute_result"
    }
   ],
   "source": [
    "initialSolD(D, vc, time, pi, tc, time, dock, n = 10, m = 10)"
   ]
  },
  {
   "cell_type": "code",
   "execution_count": null,
   "metadata": {},
   "outputs": [],
   "source": []
  }
 ],
 "metadata": {
  "kernelspec": {
   "display_name": "Python 3",
   "language": "python",
   "name": "python3"
  },
  "language_info": {
   "codemirror_mode": {
    "name": "ipython",
    "version": 3
   },
   "file_extension": ".py",
   "mimetype": "text/x-python",
   "name": "python",
   "nbconvert_exporter": "python",
   "pygments_lexer": "ipython3",
   "version": "3.7.3"
  }
 },
 "nbformat": 4,
 "nbformat_minor": 4
}
