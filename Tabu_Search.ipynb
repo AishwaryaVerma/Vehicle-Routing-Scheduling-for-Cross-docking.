{
 "cells": [
  {
   "cell_type": "code",
   "execution_count": 23,
   "metadata": {},
   "outputs": [],
   "source": [
    "from __future__ import print_function\n",
    "from ortools.constraint_solver import routing_enums_pb2\n",
    "from ortools.constraint_solver import pywrapcp\n",
    "import numpy as np\n",
    "import random\n",
    "import matplotlib.pyplot as plt"
   ]
  },
  {
   "cell_type": "code",
   "execution_count": 14,
   "metadata": {},
   "outputs": [],
   "source": [
    "def randConnect(n):\n",
    "    n += 1\n",
    "    tran = np.zeros((n,n))\n",
    "    time = np.zeros((n,n))\n",
    "    for i in range(n):\n",
    "        for j in range(n):\n",
    "            if(i == j):\n",
    "                continue\n",
    "            t1 = random.randrange(400,500)\n",
    "            tran[i,j] = t1\n",
    "            tran[j,i] = t1\n",
    "            t2 = random.randrange(20,200)\n",
    "            time[i,j] = t2\n",
    "            time[j,i] = t2\n",
    "    return(tran)"
   ]
  },
  {
   "cell_type": "code",
   "execution_count": 3,
   "metadata": {},
   "outputs": [],
   "source": [
    "#tc = randConnect(17)"
   ]
  },
  {
   "cell_type": "code",
   "execution_count": 58,
   "metadata": {},
   "outputs": [],
   "source": [
    "def create_data_model(n, m):\n",
    "    \"\"\"Stores the data for the problem.\"\"\"\n",
    "    data = {}\n",
    "    data['distance_matrix'] = randConnect(n)\n",
    "    '''\n",
    "    data['distance_matrix'] = [\n",
    "        [\n",
    "            0, 548, 776, 696, 582, 274, 502, 194, 308, 194, 536, 502, 388, 354,\n",
    "            468, 776, 662\n",
    "        ],\n",
    "        [\n",
    "            548, 0, 684, 308, 194, 502, 730, 354, 696, 742, 1084, 594, 480, 674,\n",
    "            1016, 868, 1210\n",
    "        ],\n",
    "        [\n",
    "            776, 684, 0, 992, 878, 502, 274, 810, 468, 742, 400, 1278, 1164,\n",
    "            1130, 788, 1552, 754\n",
    "        ],\n",
    "        [\n",
    "            696, 308, 992, 0, 114, 650, 878, 502, 844, 890, 1232, 514, 628, 822,\n",
    "            1164, 560, 1358\n",
    "        ],\n",
    "        [\n",
    "            582, 194, 878, 114, 0, 536, 764, 388, 730, 776, 1118, 400, 514, 708,\n",
    "            1050, 674, 1244\n",
    "        ],\n",
    "        [\n",
    "            274, 502, 502, 650, 536, 0, 228, 308, 194, 240, 582, 776, 662, 628,\n",
    "            514, 1050, 708\n",
    "        ],\n",
    "        [\n",
    "            502, 730, 274, 878, 764, 228, 0, 536, 194, 468, 354, 1004, 890, 856,\n",
    "            514, 1278, 480\n",
    "        ],\n",
    "        [\n",
    "            194, 354, 810, 502, 388, 308, 536, 0, 342, 388, 730, 468, 354, 320,\n",
    "            662, 742, 856\n",
    "        ],\n",
    "        [\n",
    "            308, 696, 468, 844, 730, 194, 194, 342, 0, 274, 388, 810, 696, 662,\n",
    "            320, 1084, 514\n",
    "        ],\n",
    "        [\n",
    "            194, 742, 742, 890, 776, 240, 468, 388, 274, 0, 342, 536, 422, 388,\n",
    "            274, 810, 468\n",
    "        ],\n",
    "        [\n",
    "            536, 1084, 400, 1232, 1118, 582, 354, 730, 388, 342, 0, 878, 764,\n",
    "            730, 388, 1152, 354\n",
    "        ],\n",
    "        [\n",
    "            502, 594, 1278, 514, 400, 776, 1004, 468, 810, 536, 878, 0, 114,\n",
    "            308, 650, 274, 844\n",
    "        ],\n",
    "        [\n",
    "            388, 480, 1164, 628, 514, 662, 890, 354, 696, 422, 764, 114, 0, 194,\n",
    "            536, 388, 730\n",
    "        ],\n",
    "        [\n",
    "            354, 674, 1130, 822, 708, 628, 856, 320, 662, 388, 730, 308, 194, 0,\n",
    "            342, 422, 536\n",
    "        ],\n",
    "        [\n",
    "            468, 1016, 788, 1164, 1050, 514, 514, 662, 320, 274, 388, 650, 536,\n",
    "            342, 0, 764, 194\n",
    "        ],\n",
    "        [\n",
    "            776, 868, 1552, 560, 674, 1050, 1278, 742, 1084, 810, 1152, 274,\n",
    "            388, 422, 764, 0, 798\n",
    "        ],\n",
    "        [\n",
    "            662, 1210, 754, 1358, 1244, 708, 480, 856, 514, 468, 354, 844, 730,\n",
    "            536, 194, 798, 0\n",
    "        ],\n",
    "    ]\n",
    "    '''\n",
    "    \n",
    "    data['pickups_deliveries'] = [\n",
    "        [1, 6],\n",
    "        [2, 10],\n",
    "        [4, 3],\n",
    "        [5, 9],\n",
    "        [7, 8],\n",
    "        #[15, 11],\n",
    "        #[13, 12],\n",
    "        #[16, 14],\n",
    "        #[19, 17],\n",
    "        #[22,29],\n",
    "        #[28,20],\n",
    "        #[26, 24],\n",
    "    ]\n",
    "    data['num_vehicles'] = m\n",
    "    data['depot'] = 0\n",
    "    return data"
   ]
  },
  {
   "cell_type": "code",
   "execution_count": 59,
   "metadata": {},
   "outputs": [],
   "source": [
    "def print_solution(data, manager, routing, assignment):\n",
    "    total_distance = 0\n",
    "    for vehicle_id in range(data['num_vehicles']):\n",
    "        index = routing.Start(vehicle_id)\n",
    "        plan_output = 'Route for vehicle {}:\\n'.format(vehicle_id)\n",
    "        route_distance = 0\n",
    "        while not routing.IsEnd(index):\n",
    "            plan_output += ' {} -> '.format(manager.IndexToNode(index))\n",
    "            previous_index = index\n",
    "            index = assignment.Value(routing.NextVar(index))\n",
    "            route_distance += routing.GetArcCostForVehicle(\n",
    "                previous_index, index, vehicle_id)\n",
    "        plan_output += '{}\\n'.format(manager.IndexToNode(index))\n",
    "        plan_output += 'Distance of the route: {}m\\n'.format(route_distance)\n",
    "        print(plan_output)\n",
    "        total_distance += route_distance\n",
    "    print('Total Distance of all routes: {}m'.format(total_distance))\n",
    "    return total_distance"
   ]
  },
  {
   "cell_type": "code",
   "execution_count": 60,
   "metadata": {
    "scrolled": true
   },
   "outputs": [],
   "source": [
    "def tabuSearch():\n",
    "    n = 10 # no. of nodes\n",
    "    m = 4 # no. of vehicles\n",
    "    data = create_data_model(n, m)\n",
    "    data['num_vehicles'] = m\n",
    "    \n",
    "    manager = pywrapcp.RoutingIndexManager(\n",
    "        len(data['distance_matrix']), data['num_vehicles'], data['depot'])\n",
    "\n",
    "    routing = pywrapcp.RoutingModel(manager)\n",
    "\n",
    "    def distance_callback(from_index, to_index):\n",
    "        # Convert from routing variable Index to distance matrix NodeIndex.\n",
    "        from_node = manager.IndexToNode(from_index)\n",
    "        to_node = manager.IndexToNode(to_index)\n",
    "        return data['distance_matrix'][from_node][to_node]\n",
    "\n",
    "    transit_callback_index = routing.RegisterTransitCallback(distance_callback)\n",
    "    routing.SetArcCostEvaluatorOfAllVehicles(transit_callback_index)\n",
    "\n",
    "    # Add Distance constraint.\n",
    "    dimension_name = 'Distance'\n",
    "    routing.AddDimension(\n",
    "        transit_callback_index,\n",
    "        0,  \n",
    "        3000,  # vehicle maximum travel distance\n",
    "        True,\n",
    "        dimension_name)\n",
    "    distance_dimension = routing.GetDimensionOrDie(dimension_name)\n",
    "    distance_dimension.SetGlobalSpanCostCoefficient(100)\n",
    "\n",
    "    # Define Transportation Requests.\n",
    "    for request in data['pickups_deliveries']:\n",
    "        pickup_index = manager.NodeToIndex(request[0])\n",
    "        delivery_index = manager.NodeToIndex(request[1])\n",
    "        routing.AddPickupAndDelivery(pickup_index, delivery_index)\n",
    "        routing.solver().Add(\n",
    "            routing.VehicleVar(pickup_index) == routing.VehicleVar(\n",
    "                delivery_index))\n",
    "        routing.solver().Add(\n",
    "            distance_dimension.CumulVar(pickup_index) <=\n",
    "            distance_dimension.CumulVar(delivery_index))\n",
    "\n",
    "    # routing_tabu_search \n",
    "    search_parameters = pywrapcp.DefaultRoutingSearchParameters()\n",
    "    search_parameters.local_search_metaheuristic = (\n",
    "    routing_enums_pb2.LocalSearchMetaheuristic.TABU_SEARCH)\n",
    "    search_parameters.time_limit.seconds = 30\n",
    "    search_parameters.log_search = True\n",
    "    #search_parameters.first_solution_strategy = (\n",
    "    #   routing_enums_pb2.FirstSolutionStrategy.PARALLEL_CHEAPEST_INSERTION)\n",
    "    # Solve the problem.\n",
    "    assignment = routing.SolveWithParameters(search_parameters)\n",
    "    if assignment:\n",
    "        td = print_solution(data, manager, routing, assignment)\n",
    "    return(td)\n",
    "\n",
    "\n",
    "#if __name__ == '__main__':\n",
    "#    main()"
   ]
  },
  {
   "cell_type": "code",
   "execution_count": null,
   "metadata": {},
   "outputs": [],
   "source": []
  },
  {
   "cell_type": "code",
   "execution_count": null,
   "metadata": {},
   "outputs": [],
   "source": []
  },
  {
   "cell_type": "code",
   "execution_count": 15,
   "metadata": {},
   "outputs": [
    {
     "name": "stdout",
     "output_type": "stream",
     "text": [
      "Route for vehicle 0:\n",
      " 0 ->  4 ->  2 ->  3 -> 0\n",
      "Distance of the route: 1666m\n",
      "\n",
      "Route for vehicle 1:\n",
      " 0 ->  10 ->  5 ->  9 -> 0\n",
      "Distance of the route: 1662m\n",
      "\n",
      "Route for vehicle 2:\n",
      " 0 ->  7 ->  8 -> 0\n",
      "Distance of the route: 1361m\n",
      "\n",
      "Route for vehicle 3:\n",
      " 0 ->  1 ->  6 -> 0\n",
      "Distance of the route: 1355m\n",
      "\n",
      "Total Distance of all routes: 6044m\n"
     ]
    },
    {
     "data": {
      "text/plain": [
       "6044"
      ]
     },
     "execution_count": 15,
     "metadata": {},
     "output_type": "execute_result"
    }
   ],
   "source": [
    "tabuSearch()"
   ]
  },
  {
   "cell_type": "code",
   "execution_count": 49,
   "metadata": {},
   "outputs": [],
   "source": [
    "cost = []"
   ]
  },
  {
   "cell_type": "code",
   "execution_count": 50,
   "metadata": {},
   "outputs": [
    {
     "name": "stdout",
     "output_type": "stream",
     "text": [
      "Route for vehicle 0:\n",
      " 0 ->  15 ->  21 ->  11 ->  25 -> 0\n",
      "Distance of the route: 2136m\n",
      "\n",
      "Route for vehicle 1:\n",
      " 0 ->  4 ->  5 ->  9 ->  3 -> 0\n",
      "Distance of the route: 2145m\n",
      "\n",
      "Route for vehicle 2:\n",
      " 0 ->  26 ->  24 -> 0\n",
      "Distance of the route: 1387m\n",
      "\n",
      "Route for vehicle 3:\n",
      " 0 ->  27 ->  22 ->  29 ->  23 -> 0\n",
      "Distance of the route: 2154m\n",
      "\n",
      "Route for vehicle 4:\n",
      " 0 ->  1 ->  2 ->  6 ->  10 -> 0\n",
      "Distance of the route: 2155m\n",
      "\n",
      "Route for vehicle 5:\n",
      " 0 ->  18 ->  19 ->  17 ->  30 -> 0\n",
      "Distance of the route: 2124m\n",
      "\n",
      "Route for vehicle 6:\n",
      " 0 ->  7 ->  16 ->  8 ->  14 -> 0\n",
      "Distance of the route: 2123m\n",
      "\n",
      "Route for vehicle 7:\n",
      " 0 ->  13 ->  28 ->  12 ->  20 -> 0\n",
      "Distance of the route: 2111m\n",
      "\n",
      "Total Distance of all routes: 16335m\n",
      "-------------------------\n",
      "Route for vehicle 0:\n",
      " 0 ->  22 ->  21 ->  29 ->  25 -> 0\n",
      "Distance of the route: 2107m\n",
      "\n",
      "Route for vehicle 1:\n",
      " 0 ->  1 ->  26 ->  6 ->  24 -> 0\n",
      "Distance of the route: 2120m\n",
      "\n",
      "Route for vehicle 2:\n",
      " 0 ->  19 ->  7 ->  8 ->  17 -> 0\n",
      "Distance of the route: 2119m\n",
      "\n",
      "Route for vehicle 3:\n",
      " 0 ->  5 ->  4 ->  3 ->  9 -> 0\n",
      "Distance of the route: 2072m\n",
      "\n",
      "Route for vehicle 4:\n",
      " 0 ->  15 ->  16 ->  11 ->  14 -> 0\n",
      "Distance of the route: 2117m\n",
      "\n",
      "Route for vehicle 5:\n",
      " 0 ->  2 ->  10 ->  18 -> 0\n",
      "Distance of the route: 1764m\n",
      "\n",
      "Route for vehicle 6:\n",
      " 0 ->  27 ->  28 ->  20 -> 0\n",
      "Distance of the route: 1665m\n",
      "\n",
      "Route for vehicle 7:\n",
      " 0 ->  13 ->  12 ->  30 ->  23 -> 0\n",
      "Distance of the route: 2120m\n",
      "\n",
      "Total Distance of all routes: 16084m\n",
      "-------------------------\n",
      "Route for vehicle 0:\n",
      " 0 ->  7 ->  5 ->  9 ->  8 -> 0\n",
      "Distance of the route: 2122m\n",
      "\n",
      "Route for vehicle 1:\n",
      " 0 ->  15 ->  11 ->  19 ->  17 -> 0\n",
      "Distance of the route: 2140m\n",
      "\n",
      "Route for vehicle 2:\n",
      " 0 ->  27 ->  30 ->  22 ->  29 -> 0\n",
      "Distance of the route: 2141m\n",
      "\n",
      "Route for vehicle 3:\n",
      " 0 ->  25 ->  28 ->  18 ->  20 -> 0\n",
      "Distance of the route: 2083m\n",
      "\n",
      "Route for vehicle 4:\n",
      " 0 ->  26 ->  21 ->  24 -> 0\n",
      "Distance of the route: 1753m\n",
      "\n",
      "Route for vehicle 5:\n",
      " 0 ->  16 ->  23 ->  14 -> 0\n",
      "Distance of the route: 1809m\n",
      "\n",
      "Route for vehicle 6:\n",
      " 0 ->  13 ->  2 ->  10 ->  12 -> 0\n",
      "Distance of the route: 2100m\n",
      "\n",
      "Route for vehicle 7:\n",
      " 0 ->  1 ->  6 ->  4 ->  3 -> 0\n",
      "Distance of the route: 2102m\n",
      "\n",
      "Total Distance of all routes: 16250m\n",
      "-------------------------\n",
      "Route for vehicle 0:\n",
      " 0 ->  19 ->  17 ->  27 -> 0\n",
      "Distance of the route: 1813m\n",
      "\n",
      "Route for vehicle 1:\n",
      " 0 ->  16 ->  21 ->  25 ->  14 -> 0\n",
      "Distance of the route: 2113m\n",
      "\n",
      "Route for vehicle 2:\n",
      " 0 ->  2 ->  30 ->  23 ->  10 -> 0\n",
      "Distance of the route: 2098m\n",
      "\n",
      "Route for vehicle 3:\n",
      " 0 ->  1 ->  22 ->  6 ->  29 -> 0\n",
      "Distance of the route: 2112m\n",
      "\n",
      "Route for vehicle 4:\n",
      " 0 ->  4 ->  18 ->  3 -> 0\n",
      "Distance of the route: 1774m\n",
      "\n",
      "Route for vehicle 5:\n",
      " 0 ->  26 ->  24 ->  5 ->  9 -> 0\n",
      "Distance of the route: 2125m\n",
      "\n",
      "Route for vehicle 6:\n",
      " 0 ->  15 ->  28 ->  11 ->  20 -> 0\n",
      "Distance of the route: 2142m\n",
      "\n",
      "Route for vehicle 7:\n",
      " 0 ->  7 ->  13 ->  12 ->  8 -> 0\n",
      "Distance of the route: 2104m\n",
      "\n",
      "Total Distance of all routes: 16281m\n",
      "-------------------------\n",
      "Route for vehicle 0:\n",
      " 0 ->  2 ->  10 ->  13 ->  12 -> 0\n",
      "Distance of the route: 2169m\n",
      "\n",
      "Route for vehicle 1:\n",
      " 0 ->  27 ->  16 ->  30 ->  14 -> 0\n",
      "Distance of the route: 2167m\n",
      "\n",
      "Route for vehicle 2:\n",
      " 0 ->  23 ->  22 ->  29 -> 0\n",
      "Distance of the route: 1794m\n",
      "\n",
      "Route for vehicle 3:\n",
      " 0 ->  21 ->  1 ->  25 ->  6 -> 0\n",
      "Distance of the route: 2196m\n",
      "\n",
      "Route for vehicle 4:\n",
      " 0 ->  18 ->  28 ->  20 -> 0\n",
      "Distance of the route: 1875m\n",
      "\n",
      "Route for vehicle 5:\n",
      " 0 ->  4 ->  7 ->  8 ->  3 -> 0\n",
      "Distance of the route: 2185m\n",
      "\n",
      "Route for vehicle 6:\n",
      " 0 ->  26 ->  19 ->  24 ->  17 -> 0\n",
      "Distance of the route: 2071m\n",
      "\n",
      "Route for vehicle 7:\n",
      " 0 ->  15 ->  5 ->  11 ->  9 -> 0\n",
      "Distance of the route: 2187m\n",
      "\n",
      "Total Distance of all routes: 16644m\n",
      "-------------------------\n"
     ]
    }
   ],
   "source": [
    "for i in range(5):\n",
    "    cost.append(tabuSearch())\n",
    "    print(\"-------------------------\")"
   ]
  },
  {
   "cell_type": "code",
   "execution_count": 19,
   "metadata": {},
   "outputs": [
    {
     "data": {
      "text/plain": [
       "[6182, 6219, 6136, 5999, 6318]"
      ]
     },
     "execution_count": 19,
     "metadata": {},
     "output_type": "execute_result"
    }
   ],
   "source": [
    "cost"
   ]
  },
  {
   "cell_type": "code",
   "execution_count": 20,
   "metadata": {},
   "outputs": [
    {
     "name": "stdout",
     "output_type": "stream",
     "text": [
      "Route for vehicle 0:\n",
      " 0 ->  7 ->  2 ->  8 -> 0\n",
      "Distance of the route: 1732m\n",
      "\n",
      "Route for vehicle 1:\n",
      " 0 ->  5 ->  9 -> 0\n",
      "Distance of the route: 1424m\n",
      "\n",
      "Route for vehicle 2:\n",
      " 0 ->  10 ->  1 ->  6 -> 0\n",
      "Distance of the route: 1633m\n",
      "\n",
      "Route for vehicle 3:\n",
      " 0 ->  4 ->  3 -> 0\n",
      "Distance of the route: 1352m\n",
      "\n",
      "Total Distance of all routes: 6141m\n",
      "-------------------------\n",
      "Route for vehicle 0:\n",
      " 0 ->  1 ->  6 -> 0\n",
      "Distance of the route: 1325m\n",
      "\n",
      "Route for vehicle 1:\n",
      " 0 ->  7 ->  2 ->  8 -> 0\n",
      "Distance of the route: 1758m\n",
      "\n",
      "Route for vehicle 2:\n",
      " 0 ->  5 ->  9 -> 0\n",
      "Distance of the route: 1414m\n",
      "\n",
      "Route for vehicle 3:\n",
      " 0 ->  4 ->  10 ->  3 -> 0\n",
      "Distance of the route: 1703m\n",
      "\n",
      "Total Distance of all routes: 6200m\n",
      "-------------------------\n",
      "Route for vehicle 0:\n",
      " 0 ->  2 ->  5 ->  9 -> 0\n",
      "Distance of the route: 1760m\n",
      "\n",
      "Route for vehicle 1:\n",
      " 0 ->  10 ->  1 ->  6 -> 0\n",
      "Distance of the route: 1718m\n",
      "\n",
      "Route for vehicle 2:\n",
      " 0 ->  7 ->  8 -> 0\n",
      "Distance of the route: 1420m\n",
      "\n",
      "Route for vehicle 3:\n",
      " 0 ->  4 ->  3 -> 0\n",
      "Distance of the route: 1394m\n",
      "\n",
      "Total Distance of all routes: 6292m\n",
      "-------------------------\n",
      "Route for vehicle 0:\n",
      " 0 ->  4 ->  3 -> 0\n",
      "Distance of the route: 1351m\n",
      "\n",
      "Route for vehicle 1:\n",
      " 0 ->  1 ->  6 -> 0\n",
      "Distance of the route: 1302m\n",
      "\n",
      "Route for vehicle 2:\n",
      " 0 ->  2 ->  5 ->  9 -> 0\n",
      "Distance of the route: 1710m\n",
      "\n",
      "Route for vehicle 3:\n",
      " 0 ->  7 ->  10 ->  8 -> 0\n",
      "Distance of the route: 1676m\n",
      "\n",
      "Total Distance of all routes: 6039m\n",
      "-------------------------\n",
      "Route for vehicle 0:\n",
      " 0 ->  7 ->  8 ->  10 -> 0\n",
      "Distance of the route: 1714m\n",
      "\n",
      "Route for vehicle 1:\n",
      " 0 ->  2 ->  1 ->  6 -> 0\n",
      "Distance of the route: 1721m\n",
      "\n",
      "Route for vehicle 2:\n",
      " 0 ->  4 ->  3 -> 0\n",
      "Distance of the route: 1340m\n",
      "\n",
      "Route for vehicle 3:\n",
      " 0 ->  5 ->  9 -> 0\n",
      "Distance of the route: 1409m\n",
      "\n",
      "Total Distance of all routes: 6184m\n",
      "-------------------------\n"
     ]
    }
   ],
   "source": [
    "for i in range(5):\n",
    "    cost.append(tabuSearch())\n",
    "    print(\"-------------------------\")"
   ]
  },
  {
   "cell_type": "code",
   "execution_count": 51,
   "metadata": {},
   "outputs": [
    {
     "data": {
      "text/plain": [
       "[16335, 16084, 16250, 16281, 16644]"
      ]
     },
     "execution_count": 51,
     "metadata": {},
     "output_type": "execute_result"
    }
   ],
   "source": [
    "cost"
   ]
  },
  {
   "cell_type": "code",
   "execution_count": 52,
   "metadata": {},
   "outputs": [
    {
     "data": {
      "text/plain": [
       "[<matplotlib.lines.Line2D at 0x1edd0ad4ac8>]"
      ]
     },
     "execution_count": 52,
     "metadata": {},
     "output_type": "execute_result"
    },
    {
     "data": {
      "image/png": "[encoded data removed]",
      "text/plain": [
       "<Figure size 432x288 with 1 Axes>"
      ]
     },
     "metadata": {
      "needs_background": "light"
     },
     "output_type": "display_data"
    }
   ],
   "source": [
    "plt.xlabel('enumeration')\n",
    "plt.ylabel('distance')\n",
    "plt.plot(cost, label = \"Cost in 10 enumerations\")"
   ]
  },
  {
   "cell_type": "code",
   "execution_count": 53,
   "metadata": {},
   "outputs": [],
   "source": [
    "avg = np.mean(cost)"
   ]
  },
  {
   "cell_type": "code",
   "execution_count": 54,
   "metadata": {},
   "outputs": [],
   "source": [
    "err = []"
   ]
  },
  {
   "cell_type": "code",
   "execution_count": 55,
   "metadata": {},
   "outputs": [],
   "source": [
    "for i in range(len(cost)):\n",
    "    err.append(abs(cost[i]-avg))"
   ]
  },
  {
   "cell_type": "code",
   "execution_count": 56,
   "metadata": {},
   "outputs": [
    {
     "data": {
      "text/plain": [
       "[16.200000000000728,\n",
       " 234.79999999999927,\n",
       " 68.79999999999927,\n",
       " 37.79999999999927,\n",
       " 325.2000000000007]"
      ]
     },
     "execution_count": 56,
     "metadata": {},
     "output_type": "execute_result"
    }
   ],
   "source": [
    "err"
   ]
  },
  {
   "cell_type": "code",
   "execution_count": 57,
   "metadata": {},
   "outputs": [
    {
     "data": {
      "text/plain": [
       "[<matplotlib.lines.Line2D at 0x1edd0b33f60>]"
      ]
     },
     "execution_count": 57,
     "metadata": {},
     "output_type": "execute_result"
    },
    {
     "data": {
      "image/png": "[encoded data removed]",
      "text/plain": [
       "<Figure size 432x288 with 1 Axes>"
      ]
     },
     "metadata": {
      "needs_background": "light"
     },
     "output_type": "display_data"
    }
   ],
   "source": [
    "plt.xlabel('enumeration')\n",
    "plt.ylabel('fluctation')\n",
    "plt.plot(err, label = \"Fluctation in 10 enumerations\")"
   ]
  },
  {
   "cell_type": "code",
   "execution_count": null,
   "metadata": {},
   "outputs": [],
   "source": []
  }
 ],
 "metadata": {
  "kernelspec": {
   "display_name": "Python 3",
   "language": "python",
   "name": "python3"
  },
  "language_info": {
   "codemirror_mode": {
    "name": "ipython",
    "version": 3
   },
   "file_extension": ".py",
   "mimetype": "text/x-python",
   "name": "python",
   "nbconvert_exporter": "python",
   "pygments_lexer": "ipython3",
   "version": "3.6.8"
  }
 },
 "nbformat": 4,
 "nbformat_minor": 2
}
